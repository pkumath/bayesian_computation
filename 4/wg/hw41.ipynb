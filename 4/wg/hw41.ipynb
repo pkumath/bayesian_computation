{
 "cells": [
  {
   "cell_type": "markdown",
   "source": [
    " # 第一题代码\n",
    "## 第二问"
   ],
   "metadata": {
    "collapsed": false
   }
  },
  {
   "cell_type": "code",
   "execution_count": 159,
   "outputs": [
    {
     "name": "stdout",
     "output_type": "stream",
     "text": [
      "Requirement already satisfied: numpy in d:\\conda\\lib\\site-packages (1.19.2)\n",
      "Requirement already satisfied: scipy in d:\\conda\\lib\\site-packages (1.5.2)\n",
      "Requirement already satisfied: numpy>=1.14.5 in d:\\conda\\lib\\site-packages (from scipy) (1.19.2)\n",
      "Requirement already satisfied: matplotlib in d:\\conda\\lib\\site-packages (3.3.2)\n",
      "Requirement already satisfied: cycler>=0.10 in d:\\conda\\lib\\site-packages (from matplotlib) (0.10.0)\n",
      "Requirement already satisfied: pyparsing!=2.0.4,!=2.1.2,!=2.1.6,>=2.0.3 in d:\\conda\\lib\\site-packages (from matplotlib) (2.4.7)\n",
      "Requirement already satisfied: numpy>=1.15 in d:\\conda\\lib\\site-packages (from matplotlib) (1.19.2)\n",
      "Requirement already satisfied: python-dateutil>=2.1 in d:\\conda\\lib\\site-packages (from matplotlib) (2.8.1)\n",
      "Requirement already satisfied: kiwisolver>=1.0.1 in d:\\conda\\lib\\site-packages (from matplotlib) (1.3.0)\n",
      "Requirement already satisfied: certifi>=2020.06.20 in d:\\conda\\lib\\site-packages (from matplotlib) (2020.6.20)\n",
      "Requirement already satisfied: pillow>=6.2.0 in d:\\conda\\lib\\site-packages (from matplotlib) (8.0.1)\n",
      "Requirement already satisfied: six in d:\\conda\\lib\\site-packages (from cycler>=0.10->matplotlib) (1.15.0)\n",
      "Requirement already satisfied: statsmodels in d:\\conda\\lib\\site-packages (0.12.0)\n",
      "Requirement already satisfied: numpy>=1.15 in d:\\conda\\lib\\site-packages (from statsmodels) (1.19.2)\n",
      "Requirement already satisfied: scipy>=1.1 in d:\\conda\\lib\\site-packages (from statsmodels) (1.5.2)\n",
      "Requirement already satisfied: pandas>=0.21 in d:\\conda\\lib\\site-packages (from statsmodels) (1.1.3)\n",
      "Requirement already satisfied: patsy>=0.5 in d:\\conda\\lib\\site-packages (from statsmodels) (0.5.1)\n",
      "Requirement already satisfied: pytz>=2017.2 in d:\\conda\\lib\\site-packages (from pandas>=0.21->statsmodels) (2020.1)\n",
      "Requirement already satisfied: python-dateutil>=2.7.3 in d:\\conda\\lib\\site-packages (from pandas>=0.21->statsmodels) (2.8.1)\n",
      "Requirement already satisfied: six in d:\\conda\\lib\\site-packages (from patsy>=0.5->statsmodels) (1.15.0)\n",
      "Requirement already satisfied: seaborn in d:\\conda\\lib\\site-packages (0.11.0)\n",
      "Requirement already satisfied: matplotlib>=2.2 in d:\\conda\\lib\\site-packages (from seaborn) (3.3.2)\n",
      "Requirement already satisfied: pandas>=0.23 in d:\\conda\\lib\\site-packages (from seaborn) (1.1.3)\n",
      "Requirement already satisfied: numpy>=1.15 in d:\\conda\\lib\\site-packages (from seaborn) (1.19.2)\n",
      "Requirement already satisfied: scipy>=1.0 in d:\\conda\\lib\\site-packages (from seaborn) (1.5.2)\n",
      "Requirement already satisfied: pillow>=6.2.0 in d:\\conda\\lib\\site-packages (from matplotlib>=2.2->seaborn) (8.0.1)\n",
      "Requirement already satisfied: certifi>=2020.06.20 in d:\\conda\\lib\\site-packages (from matplotlib>=2.2->seaborn) (2020.6.20)\n",
      "Requirement already satisfied: python-dateutil>=2.1 in d:\\conda\\lib\\site-packages (from matplotlib>=2.2->seaborn) (2.8.1)\n",
      "Requirement already satisfied: cycler>=0.10 in d:\\conda\\lib\\site-packages (from matplotlib>=2.2->seaborn) (0.10.0)\n",
      "Requirement already satisfied: kiwisolver>=1.0.1 in d:\\conda\\lib\\site-packages (from matplotlib>=2.2->seaborn) (1.3.0)\n",
      "Requirement already satisfied: pyparsing!=2.0.4,!=2.1.2,!=2.1.6,>=2.0.3 in d:\\conda\\lib\\site-packages (from matplotlib>=2.2->seaborn) (2.4.7)\n",
      "Requirement already satisfied: pytz>=2017.2 in d:\\conda\\lib\\site-packages (from pandas>=0.23->seaborn) (2020.1)\n",
      "Requirement already satisfied: six>=1.5 in d:\\conda\\lib\\site-packages (from python-dateutil>=2.1->matplotlib>=2.2->seaborn) (1.15.0)\n"
     ]
    }
   ],
   "source": [
    "#引入依赖\n",
    "!pip install numpy\n",
    "!pip install scipy\n",
    "!pip install matplotlib\n",
    "!pip install statsmodels\n",
    "!pip install seaborn\n",
    "\n",
    "import numpy\n",
    "import scipy.stats\n",
    "import scipy.optimize\n",
    "import scipy.special\n",
    "import math\n",
    "import seaborn\n",
    "import matplotlib.pyplot as plt\n",
    "import pandas\n",
    "import pylab\n",
    "import pickle"
   ],
   "metadata": {
    "collapsed": false,
    "pycharm": {
     "name": "#%%\n"
    }
   }
  },
  {
   "cell_type": "markdown",
   "source": [
    "首先进行初始化和读入数据"
   ],
   "metadata": {
    "collapsed": false,
    "pycharm": {
     "name": "#%% md\n"
    }
   }
  },
  {
   "cell_type": "code",
   "execution_count": 160,
   "outputs": [],
   "source": [
    "with open (\"btc_hw4_lda_data.p\", \"rb\") as handle :\n",
    "  data_loaded = pickle.load (handle)\n",
    "\n",
    "beta=data_loaded['beta_matrix'].T\n",
    "w=data_loaded['data']\n",
    "\n",
    "#Basic Constant\n",
    "K = 4\n",
    "M = 100\n",
    "N = 200\n",
    "alpha = 0.1\n",
    "\n",
    "#要求的矩阵参数随机初始化，使用标准正态\n",
    "#gamma = numpy.abs(numpy.random.normal(size=[M,K], loc=0 ,scale =1))+0.1\n",
    "gamma = numpy.zeros([M,K])+0.1\n",
    "#phi = numpy.abs(numpy.random.normal(size = [M,N,K], loc = 0, scale = 1))+0.1\n",
    "phi = numpy.zeros([M,N,K])+0.1# print(beta)\n",
    "# print(data)\n"
   ],
   "metadata": {
    "collapsed": false,
    "pycharm": {
     "name": "#%%\n"
    }
   }
  },
  {
   "cell_type": "markdown",
   "source": [
    "具体算法见手写pdf,这里我们指出，直接通过个体ELBO的收敛性而不是全部ELBO的收敛性（因为我们只对第一个个体进行LDA推断）来实行停止条件。\n",
    "\n",
    "另外需要格外注意，我们的“文档”已经经过排序与单词表排列相同，所以我们不用indicator而是直接用w乘对应的beta。"
   ],
   "metadata": {
    "collapsed": false,
    "pycharm": {
     "name": "#%% md\n"
    }
   }
  },
  {
   "cell_type": "code",
   "execution_count": 161,
   "outputs": [],
   "source": [
    "#首先定义个体ELBO的计算，m是个体编号\n",
    "\n",
    "\n",
    "def ELBO(m, K,M,N,alpha,beta, w, gamma, phi):\n",
    "    gamma_m_hat = numpy.sum(gamma[m-1,])\n",
    "    w_full = numpy.nonzero(w[m-1,])\n",
    "    temp = 0\n",
    "    temp1 = 0\n",
    "    temp2 = 0\n",
    "    for n in range(N):\n",
    "        temp += numpy.sum(phi[m-1, n,]*(scipy.special.digamma(gamma[m-1,])-scipy.special.digamma(gamma_m_hat)))\n",
    "        temp1 += numpy.sum(phi[m-1, n,]*(w[m-1,n] * numpy.log(beta[:, n])))\n",
    "        temp2 += numpy.sum(phi[m-1, n ,]*numpy.log(phi[m-1, n ,]))\n",
    "    positive_term = (alpha-1)*(numpy.sum(scipy.special.digamma(gamma[m-1,]))-scipy.special.digamma(gamma_m_hat)*K)+ temp + temp1\n",
    "    temp3 = -numpy.sum(numpy.log(scipy.special.gamma(gamma[m-1,]))) + math.lgamma(numpy.sum(gamma[m-1,]))\n",
    "    #print(f'here is {numpy.log(scipy.special.gamma(numpy.sum(gamma[m-1,])))}')\n",
    "    negative_term = numpy.sum((scipy.special.digamma(gamma[m-1,])  - scipy.special.digamma(gamma_m_hat))*(gamma[m-1,]-1))+temp2 + temp3\n",
    "    return positive_term-negative_term\n",
    "\n",
    "#数组在python中以地址传递\n",
    "def updata_gamma(m, K,M,N,alpha,beta, w, gamma, phi):\n",
    "    gamma[m-1, ] = alpha + numpy.sum(phi[m-1,:,:],axis=0)\n",
    "\n",
    "def updata_phi(m, K,M,N,alpha,beta, w, gamma, phi):\n",
    "    for n in range(N):\n",
    "        for k in range(K):\n",
    "            phi[m-1,n,k] = numpy.exp((scipy.special.digamma(gamma[m-1,k]) - scipy.special.digamma(numpy.sum(gamma[m-1,]))))*(beta[k,n]**w[m-1,n])\n",
    "        phi[m-1,n,] = phi[m-1,n,]/numpy.sum(phi[m-1,n,])"
   ],
   "metadata": {
    "collapsed": false,
    "pycharm": {
     "name": "#%%\n"
    }
   }
  },
  {
   "cell_type": "markdown",
   "source": [
    "现在写主算法。"
   ],
   "metadata": {
    "collapsed": false
   }
  },
  {
   "cell_type": "code",
   "execution_count": 162,
   "outputs": [
    {
     "name": "stdout",
     "output_type": "stream",
     "text": [
      "160.200188781539\n",
      "1.087603909934444\n",
      "0.16267446094911975\n",
      "0.12963239989881004\n",
      "0.1036705281326249\n",
      "0.08320336599024358\n",
      "0.067011672168519\n",
      "0.05415660196740646\n",
      "0.04391381530695071\n",
      "0.03572312178891934\n",
      "0.029150088719802625\n",
      "0.023856795077335846\n",
      "0.019579548400088242\n",
      "0.016111890666422823\n",
      "0.013291618003506755\n",
      "0.010990846770482676\n",
      "0.009108393620181232\n",
      "0.007563915537389221\n",
      "0.006293390878795435\n",
      "0.005245624307349317\n",
      "0.004379535280008895\n",
      "0.003662047718876238\n",
      "0.0030664422155268767\n",
      "0.0025710650476185037\n",
      "0.00215831334998029\n",
      "0.0018138345960210245\n",
      "0.0015258929772699048\n",
      "0.0012848661696125419\n",
      "0.0010828442505044222\n",
      "0.0009133090052273474\n",
      "-500.0342302123074\n"
     ]
    }
   ],
   "source": [
    "iteration_count = numpy.zeros(M)\n",
    "ELBO_old = ELBO(1, K,M,N,alpha, beta, w, gamma, phi)\n",
    "count = 0\n",
    "while(True):\n",
    "    updata_gamma(1, K,M,N,alpha,beta, w, gamma, phi)\n",
    "    updata_phi(1, K,M,N,alpha,beta, w, gamma, phi)\n",
    "    ELBO_new = ELBO(1, K,M,N,alpha, beta, w, gamma, phi)\n",
    "    count += 1\n",
    "    if ELBO_new - ELBO_old <= 0.001:\n",
    "        print(ELBO_new - ELBO_old)\n",
    "        iteration_count[0] = count\n",
    "        break\n",
    "    else:\n",
    "        print(ELBO_new - ELBO_old)\n",
    "    ELBO_old = ELBO_new\n",
    "\n",
    "print(ELBO_new)"
   ],
   "metadata": {
    "collapsed": false,
    "pycharm": {
     "name": "#%%\n"
    }
   }
  },
  {
   "cell_type": "markdown",
   "source": [
    "*RMK*:算法一开始不收敛，发现是运算精度的问题！Gamma函数的指数级增长使误差爆炸，因此使用log-gamma(math库)处理这一问题。接下来我们画出这一个体的$\\phi$.此时，我们需要针对它的基因库作图，忽略没有出现的基因点位。"
   ],
   "metadata": {
    "collapsed": false,
    "pycharm": {
     "name": "#%% md\n"
    }
   }
  },
  {
   "cell_type": "code",
   "execution_count": 163,
   "outputs": [
    {
     "data": {
      "text/plain": "<Figure size 432x288 with 2 Axes>",
      "image/png": "[encoded data removed]"
     },
     "metadata": {
      "needs_background": "light"
     },
     "output_type": "display_data"
    }
   ],
   "source": [
    "#首先取出我们需要的矩阵\n",
    "index_individual_one, = numpy.nonzero(w[0,:])\n",
    "phi_individual_one = numpy.zeros([len(index_individual_one),K])\n",
    "\n",
    "for i in range(len(index_individual_one)):\n",
    "    for k in range(K):\n",
    "        phi_individual_one[i,k] = phi[0, index_individual_one[i],k]\n",
    "\n",
    "#作图\n",
    "phi_individual_one=pandas.DataFrame(phi_individual_one,index=index_individual_one,columns=numpy.array([1,2,3,4]))\n",
    "%matplotlib inline\n",
    "cmap = seaborn.diverging_palette(-100,700,sep=2,as_cmap=True)\n",
    "seaborn.heatmap(phi_individual_one,cmap=cmap)\n",
    "plt.xlabel('Ancestor populations')\n",
    "plt.ylabel('Index of genotype loci')\n",
    "plt.show()"
   ],
   "metadata": {
    "collapsed": false,
    "pycharm": {
     "name": "#%%\n"
    }
   }
  },
  {
   "cell_type": "markdown",
   "source": [
    "## 第三问\n",
    "和第二问没有本质区别，只不过是对$\\gamma$进行推断，而且是对每个个体进行推断。因此，我们直接写出代码："
   ],
   "metadata": {
    "collapsed": false
   }
  },
  {
   "cell_type": "code",
   "execution_count": 164,
   "outputs": [],
   "source": [
    "#首先得到完全inference\n",
    "for m in range(2,M+1):\n",
    "    count = 0\n",
    "    # print(m)\n",
    "    ELBO_old = ELBO(m, K,M,N,alpha, beta, w, gamma, phi)\n",
    "    while(True):\n",
    "        updata_gamma(m, K,M,N,alpha,beta, w, gamma, phi)\n",
    "        updata_phi(m, K,M,N,alpha,beta, w, gamma, phi)\n",
    "        count += 1\n",
    "        ELBO_new = ELBO(m, K,M,N,alpha, beta, w, gamma, phi)\n",
    "        if ELBO_new - ELBO_old <= 0.001:\n",
    "            iteration_count[m-1] = count\n",
    "            # print(ELBO_new - ELBO_old)\n",
    "            break\n",
    "        # else:\n",
    "            # print(ELBO_new - ELBO_old)\n",
    "        ELBO_old = ELBO_new"
   ],
   "metadata": {
    "collapsed": false,
    "pycharm": {
     "name": "#%%\n"
    }
   }
  },
  {
   "cell_type": "code",
   "execution_count": 175,
   "outputs": [
    {
     "data": {
      "text/plain": "<Figure size 432x288 with 2 Axes>",
      "image/png": "[encoded data removed]"
     },
     "metadata": {
      "needs_background": "light"
     },
     "output_type": "display_data"
    }
   ],
   "source": [
    "#得到ancestor类别推断矩阵\n",
    "big_theta = numpy.zeros([M,K])\n",
    "for i in range(M):\n",
    "    big_theta[i,] = gamma[i,]/numpy.sum(gamma[i,])\n",
    "\n",
    "#作图\n",
    "big_theta=pandas.DataFrame(big_theta,index=range(1,M+1),columns=numpy.array([1,2,3,4]))\n",
    "%matplotlib inline\n",
    "cmap = seaborn.diverging_palette(500,0,sep=20,as_cmap=True)\n",
    "seaborn.heatmap(big_theta,cmap=cmap)\n",
    "plt.xlabel('Ancestor populations')\n",
    "plt.ylabel('Index of Individuals')\n",
    "plt.show()"
   ],
   "metadata": {
    "collapsed": false,
    "pycharm": {
     "name": "#%%\n"
    }
   }
  },
  {
   "cell_type": "markdown",
   "source": [
    "## 第四问\n",
    "我们依次排列所需的迭代次数，终止条件与题目中所说相同。"
   ],
   "metadata": {
    "collapsed": false,
    "pycharm": {
     "name": "#%% md\n"
    }
   }
  },
  {
   "cell_type": "code",
   "execution_count": 180,
   "outputs": [
    {
     "name": "stdout",
     "output_type": "stream",
     "text": [
      "平均迭代52.54次。\n",
      "第1个个体的推断用了30.0次迭代。\n",
      "第2个个体的推断用了63.0次迭代。\n",
      "第3个个体的推断用了117.0次迭代。\n",
      "第4个个体的推断用了43.0次迭代。\n",
      "第5个个体的推断用了65.0次迭代。\n",
      "第6个个体的推断用了35.0次迭代。\n",
      "第7个个体的推断用了70.0次迭代。\n",
      "第8个个体的推断用了128.0次迭代。\n",
      "第9个个体的推断用了34.0次迭代。\n",
      "第10个个体的推断用了46.0次迭代。\n",
      "第11个个体的推断用了45.0次迭代。\n",
      "第12个个体的推断用了42.0次迭代。\n",
      "第13个个体的推断用了43.0次迭代。\n",
      "第14个个体的推断用了89.0次迭代。\n",
      "第15个个体的推断用了49.0次迭代。\n",
      "第16个个体的推断用了42.0次迭代。\n",
      "第17个个体的推断用了57.0次迭代。\n",
      "第18个个体的推断用了59.0次迭代。\n",
      "第19个个体的推断用了36.0次迭代。\n",
      "第20个个体的推断用了31.0次迭代。\n",
      "第21个个体的推断用了42.0次迭代。\n",
      "第22个个体的推断用了46.0次迭代。\n",
      "第23个个体的推断用了36.0次迭代。\n",
      "第24个个体的推断用了48.0次迭代。\n",
      "第25个个体的推断用了41.0次迭代。\n",
      "第26个个体的推断用了32.0次迭代。\n",
      "第27个个体的推断用了25.0次迭代。\n",
      "第28个个体的推断用了62.0次迭代。\n",
      "第29个个体的推断用了36.0次迭代。\n",
      "第30个个体的推断用了39.0次迭代。\n",
      "第31个个体的推断用了73.0次迭代。\n",
      "第32个个体的推断用了33.0次迭代。\n",
      "第33个个体的推断用了50.0次迭代。\n",
      "第34个个体的推断用了44.0次迭代。\n",
      "第35个个体的推断用了34.0次迭代。\n",
      "第36个个体的推断用了68.0次迭代。\n",
      "第37个个体的推断用了26.0次迭代。\n",
      "第38个个体的推断用了22.0次迭代。\n",
      "第39个个体的推断用了46.0次迭代。\n",
      "第40个个体的推断用了47.0次迭代。\n",
      "第41个个体的推断用了123.0次迭代。\n",
      "第42个个体的推断用了45.0次迭代。\n",
      "第43个个体的推断用了102.0次迭代。\n",
      "第44个个体的推断用了70.0次迭代。\n",
      "第45个个体的推断用了36.0次迭代。\n",
      "第46个个体的推断用了32.0次迭代。\n",
      "第47个个体的推断用了101.0次迭代。\n",
      "第48个个体的推断用了37.0次迭代。\n",
      "第49个个体的推断用了26.0次迭代。\n",
      "第50个个体的推断用了18.0次迭代。\n",
      "第51个个体的推断用了74.0次迭代。\n",
      "第52个个体的推断用了29.0次迭代。\n",
      "第53个个体的推断用了66.0次迭代。\n",
      "第54个个体的推断用了43.0次迭代。\n",
      "第55个个体的推断用了65.0次迭代。\n",
      "第56个个体的推断用了25.0次迭代。\n",
      "第57个个体的推断用了38.0次迭代。\n",
      "第58个个体的推断用了126.0次迭代。\n",
      "第59个个体的推断用了45.0次迭代。\n",
      "第60个个体的推断用了50.0次迭代。\n",
      "第61个个体的推断用了30.0次迭代。\n",
      "第62个个体的推断用了46.0次迭代。\n",
      "第63个个体的推断用了57.0次迭代。\n",
      "第64个个体的推断用了24.0次迭代。\n",
      "第65个个体的推断用了137.0次迭代。\n",
      "第66个个体的推断用了30.0次迭代。\n",
      "第67个个体的推断用了100.0次迭代。\n",
      "第68个个体的推断用了38.0次迭代。\n",
      "第69个个体的推断用了75.0次迭代。\n",
      "第70个个体的推断用了33.0次迭代。\n",
      "第71个个体的推断用了36.0次迭代。\n",
      "第72个个体的推断用了60.0次迭代。\n",
      "第73个个体的推断用了53.0次迭代。\n",
      "第74个个体的推断用了33.0次迭代。\n",
      "第75个个体的推断用了26.0次迭代。\n",
      "第76个个体的推断用了42.0次迭代。\n",
      "第77个个体的推断用了70.0次迭代。\n",
      "第78个个体的推断用了47.0次迭代。\n",
      "第79个个体的推断用了32.0次迭代。\n",
      "第80个个体的推断用了51.0次迭代。\n",
      "第81个个体的推断用了82.0次迭代。\n",
      "第82个个体的推断用了18.0次迭代。\n",
      "第83个个体的推断用了36.0次迭代。\n",
      "第84个个体的推断用了35.0次迭代。\n",
      "第85个个体的推断用了82.0次迭代。\n",
      "第86个个体的推断用了56.0次迭代。\n",
      "第87个个体的推断用了132.0次迭代。\n",
      "第88个个体的推断用了30.0次迭代。\n",
      "第89个个体的推断用了134.0次迭代。\n",
      "第90个个体的推断用了53.0次迭代。\n",
      "第91个个体的推断用了35.0次迭代。\n",
      "第92个个体的推断用了27.0次迭代。\n",
      "第93个个体的推断用了77.0次迭代。\n",
      "第94个个体的推断用了55.0次迭代。\n",
      "第95个个体的推断用了88.0次迭代。\n",
      "第96个个体的推断用了34.0次迭代。\n",
      "第97个个体的推断用了43.0次迭代。\n",
      "第98个个体的推断用了35.0次迭代。\n",
      "第99个个体的推断用了33.0次迭代。\n",
      "第100个个体的推断用了24.0次迭代。\n"
     ]
    }
   ],
   "source": [
    "print(f'平均迭代{numpy.sum(iteration_count)/M}次。')\n",
    "for i in range(M):\n",
    "    print(f'第{i+1}个个体的推断用了{iteration_count[i]}次迭代。')"
   ],
   "metadata": {
    "collapsed": false,
    "pycharm": {
     "name": "#%%\n"
    }
   }
  },
  {
   "cell_type": "markdown",
   "source": [
    "## 第五问\n",
    "对$\\alpha = 0.01,1,10$重复进行实验，每次重新画推断矩阵$\\Theta$,并比较平均迭代次数。"
   ],
   "metadata": {
    "collapsed": false,
    "pycharm": {
     "name": "#%% md\n"
    }
   }
  },
  {
   "cell_type": "code",
   "execution_count": 181,
   "outputs": [
    {
     "data": {
      "text/plain": "<Figure size 432x288 with 2 Axes>",
      "image/png": "[encoded data removed]"
     },
     "metadata": {
      "needs_background": "light"
     },
     "output_type": "display_data"
    },
    {
     "name": "stdout",
     "output_type": "stream",
     "text": [
      "alpha= 0.01的平均迭代次数为52.2.\n",
      "alpha= 1的平均迭代次数为32.12.\n",
      "alpha= 10的平均迭代次数为13.56.\n"
     ]
    },
    {
     "data": {
      "text/plain": "<Figure size 432x288 with 2 Axes>",
      "image/png": "[encoded data removed]"
     },
     "metadata": {
      "needs_background": "light"
     },
     "output_type": "display_data"
    },
    {
     "data": {
      "text/plain": "<Figure size 432x288 with 2 Axes>",
      "image/png": "[encoded data removed]"
     },
     "metadata": {
      "needs_background": "light"
     },
     "output_type": "display_data"
    }
   ],
   "source": [
    "def repeated_experiment(alpha):\n",
    "    K = 4\n",
    "    M = 100\n",
    "    N = 200\n",
    "\n",
    "    #要求的矩阵参数随机初始化，使用标准正态\n",
    "    #gamma = numpy.abs(numpy.random.normal(size=[M,K], loc=0 ,scale =1))+0.1\n",
    "    gamma = numpy.zeros([M,K])+0.1\n",
    "    #phi = numpy.abs(numpy.random.normal(size = [M,N,K], loc = 0, scale = 1))+0.1\n",
    "    phi = numpy.zeros([M,N,K])+0.1#\n",
    "    iteration_count = numpy.zeros(M)\n",
    "    for m in range(1,M+1):\n",
    "        count = 0\n",
    "        # print(m)\n",
    "        ELBO_old = ELBO(m, K,M,N,alpha, beta, w, gamma, phi)\n",
    "        while(True):\n",
    "            updata_gamma(m, K,M,N,alpha,beta, w, gamma, phi)\n",
    "            updata_phi(m, K,M,N,alpha,beta, w, gamma, phi)\n",
    "            count += 1\n",
    "            ELBO_new = ELBO(m, K,M,N,alpha, beta, w, gamma, phi)\n",
    "            if ELBO_new - ELBO_old <= 0.001:\n",
    "                iteration_count[m-1] = count\n",
    "                # print(ELBO_new - ELBO_old)\n",
    "                break\n",
    "            # else:\n",
    "                # print(ELBO_new - ELBO_old)\n",
    "            ELBO_old = ELBO_new\n",
    "\n",
    "    big_theta = numpy.zeros([M,K])\n",
    "    for i in range(M):\n",
    "        big_theta[i,] = gamma[i,]/numpy.sum(gamma[i,])\n",
    "\n",
    "    #作图\n",
    "    big_theta=pandas.DataFrame(big_theta,index=range(1,M+1),columns=numpy.array([1,2,3,4]))\n",
    "    %matplotlib inline\n",
    "    cmap = seaborn.diverging_palette(500,0,sep=20,as_cmap=True)\n",
    "    seaborn.heatmap(big_theta,cmap=cmap)\n",
    "    plt.xlabel('Ancestor populations')\n",
    "    plt.ylabel('Index of Individuals')\n",
    "    plt.show()\n",
    "\n",
    "    return numpy.sum(iteration_count)/M\n",
    "\n",
    "print(f'alpha= 0.01的平均迭代次数为{repeated_experiment(0.01)}.')\n",
    "print(f'alpha= 1的平均迭代次数为{repeated_experiment(1)}.')\n",
    "print(f'alpha= 10的平均迭代次数为{repeated_experiment(10)}.')"
   ],
   "metadata": {
    "collapsed": false,
    "pycharm": {
     "name": "#%%\n"
    }
   }
  }
 ],
 "metadata": {
  "kernelspec": {
   "display_name": "Python 3",
   "language": "python",
   "name": "python3"
  },
  "language_info": {
   "codemirror_mode": {
    "name": "ipython",
    "version": 2
   },
   "file_extension": ".py",
   "mimetype": "text/x-python",
   "name": "python",
   "nbconvert_exporter": "python",
   "pygments_lexer": "ipython2",
   "version": "2.7.6"
  }
 },
 "nbformat": 4,
 "nbformat_minor": 0
}